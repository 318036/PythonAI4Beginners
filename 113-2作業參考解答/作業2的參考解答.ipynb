{
  "nbformat": 4,
  "nbformat_minor": 0,
  "metadata": {
    "colab": {
      "provenance": []
    },
    "kernelspec": {
      "name": "python3",
      "display_name": "Python 3"
    },
    "language_info": {
      "name": "python"
    }
  },
  "cells": [
    {
      "cell_type": "markdown",
      "source": [
        "\n",
        "\n",
        "```\n",
        "import pandas as pd\n",
        "\n",
        "data = {\n",
        "    'Date': ['1/3/2023', '1/3/2023', '1/3/2023', '1/3/2023', '1/3/2023', '1/3/2023', '1/3/2023', '1/3/2023', '2/3/2023', '2/3/2023'],\n",
        "    'Item': ['chai', 'chai', 'juice', 'coffee', 'coffee', 'chai', 'coldrink', 'others', 'chai', 'juice'],\n",
        "    'Amount': [7, 20, 15, 12, 12, 25, 10, 10, 7, 15]\n",
        "}\n",
        "df = pd.DataFrame(data)\n",
        "\n",
        "用字典  建立一個 pandas 的 DataFrame df，模擬每天的銷售資料，然後這個大的變數叫DATA\n",
        "\n",
        "\n",
        "```\n",
        "\n",
        "\n",
        "\n",
        "```\n",
        "results = {'chai': 0, 'juice': 0, 'coffee': 0, 'coldrink': 0, 'others': 0}\n",
        "建立一個 results 字典來存放各飲品的銷售總金額（初始都設為 0）。\n",
        "\n",
        "```\n",
        "\n",
        "\n",
        "\n",
        "```\n",
        "df_filtered = df[df['Date'] == '1/3/2023']\n",
        "篩選出日期為 '1/3/2023' 的交易資料，共有 8 筆資料會被篩選出來。\n",
        "\n",
        "\n",
        "```\n",
        "\n",
        "\n",
        "\n",
        "\n",
        "\n",
        "```\n",
        "item_totals = df_filtered.groupby('Item')['Amount'].sum()\n",
        "\n",
        "對 df_filtered 根據 Item 欄位分組。然後再從每組取出 Amount 欄位並加總。\n",
        "\n",
        "\n",
        "\n",
        "```\n",
        "\n",
        "\n",
        "\n",
        "\n",
        "```\n",
        "for item, total in item_totals.items():\n",
        "    if item in results:\n",
        "        results[item] = total\n",
        "\n",
        "\n",
        "針對每個加總後的項目名稱（item）和其總金額（total）進行迴圈。假設item已經存在 results 字典中，就把item的值更新為加總後的金額。\n",
        "\n",
        "```\n",
        "\n",
        "\n",
        "\n",
        "```\n",
        "print(results)\n",
        "```\n",
        "\n"
      ],
      "metadata": {
        "id": "H_ZUpmKDe9Qh"
      }
    },
    {
      "cell_type": "markdown",
      "source": [
        "目標: 請根據給定的 pandas dataframe 和以下線索，計算出 results 的正確答案 :\n",
        "\n",
        "data 為店家內部的消費紀錄。(Date 為日期、Item 為商品項目、Amount 為購買數量)\n",
        "\n",
        "店家只想要了解 1/3/2023 當天的消費紀錄。\n",
        "\n",
        "店家想要統計不同 Item 被買了多少數量 (變數 results 為統計表)。"
      ],
      "metadata": {
        "id": "iLjMJsCt-qyG"
      }
    },
    {
      "cell_type": "code",
      "execution_count": null,
      "metadata": {
        "colab": {
          "base_uri": "https://localhost:8080/"
        },
        "id": "keShT_HEep26",
        "outputId": "88e769f3-56e6-43b7-cb99-0bde94cba95c"
      },
      "outputs": [
        {
          "output_type": "stream",
          "name": "stdout",
          "text": [
            "{'chai': 52, 'juice': 15, 'coffee': 24, 'coldrink': 0, 'others': 10}\n"
          ]
        }
      ],
      "source": [
        "import pandas as pd\n",
        "\n",
        "data = {\n",
        "    'Date': ['1/3/2023', '1/3/2023', '1/3/2023', '1/3/2023', '1/3/2023', '1/3/2023', '1/3/2023', '1/3/2023', '2/3/2023', '2/3/2023'],\n",
        "    'Item': ['chai', 'chai', 'juice', 'coffee', 'coffee', 'chai', 'coldrinzk', 'others', 'chai', 'juice'],\n",
        "    'Amount': [7, 20, 15, 12, 12, 25, 10, 10, 7, 15]\n",
        "}\n",
        "df = pd.DataFrame(data)\n",
        "\n",
        "results = {'chai': 0, 'juice': 0, 'coffee': 0, 'coldrink': 0, 'others': 0}\n",
        "\n",
        "df_filtered = df[df['Date'] == '1/3/2023']\n",
        "\n",
        "item_totals = df_filtered.groupby('Item')['Amount'].sum()\n",
        "z\n",
        "for item, total in item_totals.items():\n",
        "    if item in results:\n",
        "        results[item] = total\n",
        "\n",
        "print(results)"
      ]
    }
  ]
}