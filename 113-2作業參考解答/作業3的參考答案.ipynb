{
  "nbformat": 4,
  "nbformat_minor": 0,
  "metadata": {
    "colab": {
      "provenance": []
    },
    "kernelspec": {
      "name": "python3",
      "display_name": "Python 3"
    },
    "language_info": {
      "name": "python"
    }
  },
  "cells": [
    {
      "cell_type": "markdown",
      "source": [
        "\n",
        "\n",
        "```\n",
        "import pandas as pd\n",
        "\n",
        "json_data = [\n",
        "  { \"HotelName\": \"丰居旅店忠孝館\", \"Description\": \"位於臺北市的旅館\", \"ServiceInfo\": \"接駁服務、健身房、SPA\", \"Price\": 2420, \"PostalAddress\": { \"City\": \"臺北市\", \"Town\": \"大安區\", \"StreetAddress\": \"復興南路1段126巷1號3樓\" } },\n",
        "  { \"HotelName\": \"松河璞旅\", \"Description\": \"位於臺北市的旅館\", \"ServiceInfo\": \"接駁服務、健身房\", \"Price\": 2600, \"PostalAddress\": { \"City\": \"臺北市\", \"Town\": \"松山區\", \"StreetAddress\": \"松河街112號1樓至8樓\" } },\n",
        "  { \"HotelName\": \"二十輪旅店大安店\", \"Description\": \"優雅質感生活\", \"ServiceInfo\": \"SPA、游泳池、酒吧\", \"Price\": 4500, \"PostalAddress\": { \"City\": \"臺北市\", \"Town\": \"大安區\", \"StreetAddress\": \"大安路一段183號\" } },\n",
        "  { \"HotelName\": \"城市商旅南東館\", \"Description\": \"時尚沉穩設計\", \"ServiceInfo\": \"健身房、酒吧、會議室\", \"Price\": 3000, \"PostalAddress\": { \"City\": \"臺北市\", \"Town\": \"松山區\", \"StreetAddress\": \"南京東路五段411號\" } },\n",
        "  { \"HotelName\": \"在家行旅\", \"Description\": \"鄰近台北火車站\", \"ServiceInfo\": \"接駁服務、健身房\", \"Price\": 1000, \"PostalAddress\": { \"City\": \"臺北市\", \"Town\": \"中山區\", \"StreetAddress\": \"中山北路二段65巷2弄3號\" } }\n",
        "]\n",
        "\n",
        "df = pd.DataFrame(json_data)\n",
        "\n",
        "\n",
        "\n",
        "使用 pandas 將一組旅館 JSON 資料轉成 DataFrame，包含：旅館名稱、介紹、服務、價格、地址（城市、區域、街道）等欄位。\n",
        "```\n",
        "\n",
        "\n",
        "\n",
        "\n",
        "\n",
        "```\n",
        "money_input = int(input())\n",
        "讀取使用者輸入的整數金額\n",
        "```\n",
        "\n",
        "\n",
        "\n",
        "```\n",
        "price = df[\"Price\"]\n",
        "available = []\n",
        "\n",
        "df[\"Price\"]：抓出所有價格欄位；\n",
        "\n",
        "建立一個空的 list（清單），用來儲存符合條件的旅館資訊。-->即available = []\n",
        "\n",
        "\n",
        "```\n",
        "\n",
        "\n",
        "\n",
        "```\n",
        "for i in range(len(price)):\n",
        "  if price[i] <= money_input:\n",
        "    tmp = df.groupby(\"Price\").get_group(price[i])\n",
        "    available.append(tmp[\"HotelName\"].iloc[0])\n",
        "    available.append(tmp[\"PostalAddress\"].iloc[0][\"City\"])\n",
        "    \n",
        " # groupby是Pandas 的分群組方法，會根據欄位的值，把資料分組\n",
        " # get_group是從某群組中取出資料\n",
        "\n",
        " #從剛剛拿到的 tmp 中，取出第一筆資料，即使用（iloc[0]），然後再加入到 available的這個空 list（清單）當中，並且要從tmp取出\"HotelName\"的這個欄位\n",
        " #然後再將tmp 中，取出PostalAddress中的第一筆資料，而PostalAddress裡面有City、Town、StreetAddress等欄位，這裡取City加入到 available 這個清單中\n",
        "```\n",
        "\n",
        "\n"
      ],
      "metadata": {
        "id": "V0ekepe1oaFI"
      }
    },
    {
      "cell_type": "code",
      "execution_count": 1,
      "metadata": {
        "colab": {
          "base_uri": "https://localhost:8080/"
        },
        "id": "FbSzm5bLfiSN",
        "outputId": "c7f4e89a-c357-495d-9e2d-44c7af9941b0"
      },
      "outputs": [
        {
          "output_type": "stream",
          "name": "stdout",
          "text": [
            "3000\n",
            "旅館名稱: 丰居旅店忠孝館, 城市: 臺北市\n",
            "旅館名稱: 松河璞旅, 城市: 臺北市\n",
            "旅館名稱: 城市商旅南東館, 城市: 臺北市\n",
            "旅館名稱: 在家行旅, 城市: 臺北市\n"
          ]
        }
      ],
      "source": [
        "import pandas as pd\n",
        "\n",
        "json_data = [\n",
        "  { \"HotelName\": \"丰居旅店忠孝館\", \"Description\": \"位於臺北市的旅館\", \"ServiceInfo\": \"接駁服務、健身房、SPA\", \"Price\": 2420, \"PostalAddress\": { \"City\": \"臺北市\", \"Town\": \"大安區\", \"StreetAddress\": \"復興南路1段126巷1號3樓\" } },\n",
        "  { \"HotelName\": \"松河璞旅\", \"Description\": \"位於臺北市的旅館\", \"ServiceInfo\": \"接駁服務、健身房\", \"Price\": 2600, \"PostalAddress\": { \"City\": \"臺北市\", \"Town\": \"松山區\", \"StreetAddress\": \"松河街112號1樓至8樓\" } },\n",
        "  { \"HotelName\": \"二十輪旅店大安店\", \"Description\": \"優雅質感生活\", \"ServiceInfo\": \"SPA、游泳池、酒吧\", \"Price\": 4500, \"PostalAddress\": { \"City\": \"臺北市\", \"Town\": \"大安區\", \"StreetAddress\": \"大安路一段183號\" } },\n",
        "  { \"HotelName\": \"城市商旅南東館\", \"Description\": \"時尚沉穩設計\", \"ServiceInfo\": \"健身房、酒吧、會議室\", \"Price\": 3000, \"PostalAddress\": { \"City\": \"臺北市\", \"Town\": \"松山區\", \"StreetAddress\": \"南京東路五段411號\" } },\n",
        "  { \"HotelName\": \"在家行旅\", \"Description\": \"鄰近台北火車站\", \"ServiceInfo\": \"接駁服務、健身房\", \"Price\": 1000, \"PostalAddress\": { \"City\": \"臺北市\", \"Town\": \"中山區\", \"StreetAddress\": \"中山北路二段65巷2弄3號\" } }\n",
        "]\n",
        "\n",
        "df = pd.DataFrame(json_data)\n",
        "\n",
        "money_input = int(input())\n",
        "\n",
        "price = df[\"Price\"]\n",
        "available = []\n",
        "for i in range(len(price)):\n",
        "  if price[i] <= money_input:\n",
        "    tmp = df.groupby(\"Price\").get_group(price[i])\n",
        "    available.append(tmp[\"HotelName\"].iloc[0])\n",
        "    available.append(tmp[\"PostalAddress\"].iloc[0][\"City\"])\n",
        "for i in range(0,len(available),2):\n",
        "  print(f\"旅館名稱: {available[i]}, 城市: {available[i+1]}\")"
      ]
    }
  ]
}