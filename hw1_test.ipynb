{
  "nbformat": 4,
  "nbformat_minor": 0,
  "metadata": {
    "colab": {
      "provenance": [],
      "authorship_tag": "ABX9TyOlpw4YA/6WVEaPJ0clCBVZ",
      "include_colab_link": true
    },
    "kernelspec": {
      "name": "python3",
      "display_name": "Python 3"
    },
    "language_info": {
      "name": "python"
    }
  },
  "cells": [
    {
      "cell_type": "markdown",
      "metadata": {
        "id": "view-in-github",
        "colab_type": "text"
      },
      "source": [
        "<a href=\"https://colab.research.google.com/github/peculab/PythonAI4Beginners/blob/main/hw1_test.ipynb\" target=\"_parent\"><img src=\"https://colab.research.google.com/assets/colab-badge.svg\" alt=\"Open In Colab\"/></a>"
      ]
    },
    {
      "cell_type": "markdown",
      "source": [
        "我想要定義一個自己創作出來的函式\n",
        "\n",
        "功能包含：\n",
        "\n",
        "1. 可判斷是否為數字\n",
        "\n",
        "  1-1. 若為數字，則要將對應的等第輸出\n",
        "\n",
        "2. 若不為數字，則回應這是非數字，無法處理"
      ],
      "metadata": {
        "id": "o8EH4u2nqNKV"
      }
    },
    {
      "cell_type": "code",
      "source": [
        "def get_grade(score):\n",
        "  # 若不為數字，則回應這是非數字，無法處理\n",
        "  if not isinstance(score, (int, float)):\n",
        "    return '非數字，無法處理'\n",
        "\n",
        "  # 若為數字，則要將對應的等第輸出\n",
        "  if 90 <= score <= 100:\n",
        "    return 'A+'\n",
        "  elif 85 <= score < 90:\n",
        "    return 'A'\n",
        "  elif 80 <= score < 85:\n",
        "    return 'A-'\n",
        "  elif 75 <= score < 80:\n",
        "    return 'B+'\n",
        "  elif 70 <= score < 75:\n",
        "    return 'B'\n",
        "  elif 65 <= score < 70:\n",
        "    return 'B-'\n",
        "  elif 60 <= score < 65:\n",
        "    return 'C+'\n",
        "  elif 60 < score:\n",
        "    return 'F'\n",
        "  else:\n",
        "    return '輸入錯誤，請輸入 0 ~ 100 之間的成績'"
      ],
      "metadata": {
        "id": "kTZywKIknxOF"
      },
      "execution_count": 2,
      "outputs": []
    },
    {
      "cell_type": "code",
      "source": [
        "try:\n",
        "  score = input('請輸入成績：')\n",
        "  score = int(score)\n",
        "  response = get_grade(score)\n",
        "  print(f\"你的等第是 {response} 。\")\n",
        "except ValueError:\n",
        "  print('輸入錯誤，請輸入數字。')"
      ],
      "metadata": {
        "colab": {
          "base_uri": "https://localhost:8080/"
        },
        "id": "Id5xyOyApC9r",
        "outputId": "d658e623-a029-41cf-a863-f0d6ace94de5"
      },
      "execution_count": 6,
      "outputs": [
        {
          "output_type": "stream",
          "name": "stdout",
          "text": [
            "請輸入成績：hihi\n",
            "輸入錯誤，請輸入數字。\n"
          ]
        }
      ]
    },
    {
      "cell_type": "markdown",
      "source": [
        "1. 自定義函式\n",
        "2. 可將人用自然語言描述出來的邏輯轉換成 if else\n",
        "3. 會使用 try except 來執行使用者輸入的非預期內容\n",
        "4. 會呼叫自定義函式"
      ],
      "metadata": {
        "id": "nzSTMYw6qW_R"
      }
    },
    {
      "cell_type": "markdown",
      "source": [],
      "metadata": {
        "id": "HSXWbgE7nSb-"
      }
    }
  ]
}