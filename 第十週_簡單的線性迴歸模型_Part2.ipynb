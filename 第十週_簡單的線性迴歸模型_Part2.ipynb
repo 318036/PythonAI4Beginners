{
  "cells": [
    {
      "cell_type": "markdown",
      "metadata": {
        "id": "view-in-github",
        "colab_type": "text"
      },
      "source": [
        "<a href=\"https://colab.research.google.com/github/peculab/PythonAI4Beginners/blob/main/%E7%AC%AC%E5%8D%81%E9%80%B1_%E7%B0%A1%E5%96%AE%E7%9A%84%E7%B7%9A%E6%80%A7%E8%BF%B4%E6%AD%B8%E6%A8%A1%E5%9E%8B_Part2.ipynb\" target=\"_parent\"><img src=\"https://colab.research.google.com/assets/colab-badge.svg\" alt=\"Open In Colab\"/></a>"
      ]
    },
    {
      "cell_type": "markdown",
      "metadata": {
        "id": "NVJC6J5rqhwd"
      },
      "source": [
        "# 讀取Excel檔案"
      ]
    },
    {
      "cell_type": "code",
      "execution_count": null,
      "metadata": {
        "id": "BU3wafgah7pR"
      },
      "outputs": [],
      "source": [
        "import pandas as pd\n",
        "from sklearn.model_selection import train_test_split\n",
        "from sklearn.linear_model import LinearRegression\n",
        "from sklearn.metrics import mean_squared_error, r2_score\n",
        "\n",
        "# 讀取 Excel 文件\n",
        "file_path = 'Price.xls'  # 替換為 Excel 文件的路徑\n",
        "df = pd.read_excel(file_path, skiprows=1)\n",
        "\n",
        "# 查看數據框中是否有缺失值\n",
        "#print(df.isnull().sum())\n",
        "\n",
        "# 選擇適合的處理方式，這裡選擇直接刪除包含 NaN 的行\n",
        "df = df.dropna()"
      ]
    },
    {
      "cell_type": "markdown",
      "metadata": {
        "id": "7kCK3KM7qpm4"
      },
      "source": [
        "# 把樓別和樓高(這棟共有幾樓)分離出來\n"
      ]
    },
    {
      "cell_type": "code",
      "execution_count": null,
      "metadata": {
        "id": "R4xNXOZJh9Gx"
      },
      "outputs": [],
      "source": [
        "import re\n",
        "\n",
        "df['樓別/樓高'] = df['樓別/樓高'].str.replace('夾層', '')\n",
        "\n",
        "# 假設 df 是你的數據框，首先定義一個函數來處理不同的樓別/樓高格式\n",
        "def extract_levels(row):\n",
        "    # 使用正則表達式提取層數，支持數字和中文數字，並忽略多餘的部分\n",
        "    match = re.match(r'(\\D*)(\\d+|\\w+)層.*?(\\d+|\\w+)層', row)\n",
        "    #print(match)\n",
        "    if match:\n",
        "        lower_level = match.group(2)  # 樓別（lower level）\n",
        "        upper_level = match.group(3)  # 樓高（upper level）\n",
        "        #print(lower_level, upper_level)\n",
        "        return pd.Series([lower_level, upper_level])\n",
        "    else:\n",
        "        return pd.Series([None, None])  # 如果無法匹配則返回 None\n",
        "\n",
        "# 應用提取函數，添加新列\n",
        "df[['樓別', '樓高']] = df['樓別/樓高'].apply(extract_levels)\n",
        "\n",
        "# 轉換為數值類型，處理中文數字\n",
        "def chinese_to_number(chinese_str):\n",
        "    chinese_numerals = {\n",
        "        '零': 0, '一': 1, '二': 2, '三': 3, '四': 4, '五': 5,\n",
        "        '六': 6, '七': 7, '八': 8, '九': 9, '十': 10\n",
        "    }\n",
        "    number = 0\n",
        "    if '十' in chinese_str and len(chinese_str)>1:\n",
        "        #print(chinese_str)\n",
        "        parts = chinese_str.split('十')\n",
        "        number += chinese_numerals[parts[0]] * 10 if parts[0] else 10\n",
        "        if len(parts) > 1:\n",
        "            #print(parts)\n",
        "            number += chinese_numerals[parts[1]]\n",
        "    else:\n",
        "        number = chinese_numerals.get(chinese_str, None)\n",
        "    return number\n",
        "\n",
        "# 將樓別和樓高轉換為數值\n",
        "df['樓別'] = df['樓別'].apply(chinese_to_number)\n",
        "df['樓高'] = df['樓高'].apply(chinese_to_number)\n",
        "\n",
        "# 確保類型為浮點數\n",
        "df['樓別'] = df['樓別'].astype(float)\n",
        "df['樓高'] = df['樓高'].astype(float)"
      ]
    },
    {
      "cell_type": "markdown",
      "metadata": {
        "id": "vwvji2Rvq2Hk"
      },
      "source": [
        "# 其它資料清理與型態轉換"
      ]
    },
    {
      "cell_type": "code",
      "execution_count": null,
      "metadata": {
        "colab": {
          "base_uri": "https://localhost:8080/"
        },
        "id": "9WiX-mVgjeGy",
        "outputId": "052ff852-03e3-44ad-9b59-834c90e14e17"
      },
      "outputs": [
        {
          "output_type": "stream",
          "name": "stdout",
          "text": [
            "      編號            地段位置或門牌  社區簡稱       交易日期  總價(萬元)  單價(萬元/坪)  總面積(坪)  \\\n",
            "76    77   大安區大安路二段３巷５３號十二樓  忠泰鳳磐  113/08/11  8000.0     105.3   88.71   \n",
            "78    79  大安區新生南路一段９７巷１號十二樓   在壹起  113/08/09  8400.0     132.7   77.75   \n",
            "81    82   大安區新生南路一段９７巷３號六樓   在壹起  113/08/09  7358.0     128.5   64.36   \n",
            "114  115  大安區嘉興街３２３巷３號十四樓之２   和平賞  113/07/13  5313.0      91.2   58.28   \n",
            "161  162     大安區安和路一段１１３號十樓  國揚安和  113/07/10  3819.0     100.0   43.32   \n",
            "\n",
            "      主建物佔比               型態    屋齡  ...          交易筆棟數  建物現況格局 車位總價(萬元) 管理組織  \\\n",
            "76   0.5835  住宅大樓(11層含以上有電梯)   7.0  ...  土:1 建物:1 車位:2    2廳2衛    700.0    有   \n",
            "78   0.5949  住宅大樓(11層含以上有電梯)   1.0  ...  土:1 建物:1 車位:2  3房2廳2衛    670.0    有   \n",
            "81   0.5741  住宅大樓(11層含以上有電梯)   1.0  ...  土:1 建物:1 車位:1  3房2廳2衛    342.0    有   \n",
            "114  0.5411  住宅大樓(11層含以上有電梯)  24.0  ...  土:2 建物:1 車位:1  3房2廳2衛    300.0    有   \n",
            "161  0.9839  住宅大樓(11層含以上有電梯)  45.0  ...  土:1 建物:1 車位:1  4房2廳3衛    250.0    有   \n",
            "\n",
            "    電梯                                    備註    樓別    樓高 有無電梯  有無管理組織  \n",
            "76   有                                 其他增建;   2.0  12.0    1       1  \n",
            "78   有  親友、員工、共有人或其他特殊關係間之交易;受債權債務關係影響或債務抵償;   2.0  12.0    1       1  \n",
            "81   有                       受債權債務關係影響或債務抵償;   6.0  12.0    1       1  \n",
            "114  有                                 其他增建;   4.0  14.0    1       1  \n",
            "161  有                 親友、員工、共有人或其他特殊關係間之交易;  10.0  12.0    1       1  \n",
            "\n",
            "[5 rows x 23 columns]\n"
          ]
        }
      ],
      "source": [
        "\n",
        "# 去掉百分號並將\"主建物佔比\"轉換為浮點數\n",
        "df['主建物佔比'] = df['主建物佔比'].str.replace('%', '').astype(float) / 100\n",
        "\n",
        "# 選擇特徵和目標變量\n",
        "# 需要選擇適合的特徵列，並進行適當的數據清理，例如將「總價(萬元)」和「單價(萬元/坪)」的數值去掉逗號\n",
        "# 確保這些列是字符串類型，以便使用 .str.replace\n",
        "df['總價(萬元)'] = df['總價(萬元)'].astype(str).str.replace(',', '').astype(float)\n",
        "df['單價(萬元/坪)'] = df['單價(萬元/坪)'].astype(str).str.replace(',', '').astype(float)\n",
        "\n",
        "# 對所有可能為數值的列進行相同的清理操作\n",
        "def clean_column(column):\n",
        "    return column.str.replace(',', '').astype(float)\n",
        "\n",
        "# 如果列中有其他需要處理的數值列，可以在這裡添加\n",
        "df['車位總價(萬元)'] = clean_column(df['車位總價(萬元)'].astype(str))\n",
        "\n",
        "# 將'有無電梯'轉換為二進制數值（0表示沒有電梯，1表示有電梯）\n",
        "df['有無電梯'] = df['電梯'].apply(lambda x: 1 if x == '有' else 0)\n",
        "df['有無管理組織'] = df['管理組織'].apply(lambda x: 1 if x == '有' else 0)\n",
        "print(df.head(5))"
      ]
    },
    {
      "cell_type": "markdown",
      "metadata": {
        "id": "X_2zpEQMrEFq"
      },
      "source": [
        "# 基本多元線性回歸範例"
      ]
    },
    {
      "cell_type": "code",
      "execution_count": null,
      "metadata": {
        "colab": {
          "base_uri": "https://localhost:8080/"
        },
        "id": "ejZ0af9lV2sl",
        "outputId": "d685d442-64ae-4d43-d485-807a0916ebf0"
      },
      "outputs": [
        {
          "output_type": "stream",
          "name": "stdout",
          "text": [
            "Mean Squared Error (MSE): 1483596.424745998\n",
            "R-squared (R2): 0.6563539358457346\n",
            "Model Coefficients: [   64.01447299   114.947535   -2036.93898469    46.56603814\n",
            "   -95.67547025    54.59873967    -2.20479702     0.\n",
            "     0.        ]\n",
            "Intercept: -6846.392048947228\n"
          ]
        }
      ],
      "source": [
        "\n",
        "\n",
        "# 選擇相關列作為特徵和目標\n",
        "X = df[['單價(萬元/坪)', '總面積(坪)', '主建物佔比', '屋齡', '樓別', '樓高', '車位總價(萬元)', '有無電梯', '有無管理組織']]\n",
        "y = df['總價(萬元)']\n",
        "\n",
        "# 將數據分為訓練集和測試集\n",
        "X_train, X_test, y_train, y_test = train_test_split(X, y, test_size=0.2, random_state=42)\n",
        "\n",
        "# 創建並訓練線性回歸模型\n",
        "model = LinearRegression()\n",
        "model.fit(X_train, y_train)\n",
        "\n",
        "# 進行預測\n",
        "y_pred = model.predict(X_test)\n",
        "\n",
        "# 輸出結果\n",
        "print(\"Mean Squared Error (MSE):\", mean_squared_error(y_test, y_pred))\n",
        "print(\"R-squared (R2):\", r2_score(y_test, y_pred))\n",
        "print(\"Model Coefficients:\", model.coef_)\n",
        "print(\"Intercept:\", model.intercept_)\n"
      ]
    },
    {
      "cell_type": "markdown",
      "metadata": {
        "id": "E0PQzQTNrTmh"
      },
      "source": [
        "# 進階一點的方式"
      ]
    },
    {
      "cell_type": "code",
      "execution_count": null,
      "metadata": {
        "colab": {
          "base_uri": "https://localhost:8080/"
        },
        "id": "dAu_6ZU2h6Fw",
        "outputId": "4537874a-767b-4a72-f692-c59eac6b6ac0"
      },
      "outputs": [
        {
          "output_type": "stream",
          "name": "stdout",
          "text": [
            "{'alpha': 0.1}\n",
            "-699426.7319480918\n",
            "Mean Squared Error (MSE): 1197396.2510836998\n",
            "R-squared (R2): 0.7226466025028105\n",
            "Best Model Coefficients: [ 897.99568091 2057.07275533 -221.35088302  412.79856031 -207.63010903\n",
            "  352.9317023   -76.88173151    0.            0.        ]\n",
            "Intercept: 5399.846724827197\n"
          ]
        },
        {
          "output_type": "stream",
          "name": "stderr",
          "text": [
            "<ipython-input-11-cf6fe0a6ff6c>:11: SettingWithCopyWarning: \n",
            "A value is trying to be set on a copy of a slice from a DataFrame\n",
            "\n",
            "See the caveats in the documentation: https://pandas.pydata.org/pandas-docs/stable/user_guide/indexing.html#returning-a-view-versus-a-copy\n",
            "  X.fillna(X.mean(), inplace=True)\n"
          ]
        }
      ],
      "source": [
        "from sklearn.model_selection import train_test_split, GridSearchCV\n",
        "from sklearn.linear_model import Ridge\n",
        "from sklearn.preprocessing import StandardScaler\n",
        "from sklearn.metrics import mean_squared_error, r2_score\n",
        "\n",
        "# 數據預處理\n",
        "X = df[['單價(萬元/坪)', '總面積(坪)', '主建物佔比', '屋齡', '樓別', '樓高', '車位總價(萬元)', '有無電梯', '有無管理組織']]\n",
        "y = df['總價(萬元)']\n",
        "\n",
        "# 填補缺失值\n",
        "X.fillna(X.mean(), inplace=True)\n",
        "\n",
        "# 特徵縮放\n",
        "scaler = StandardScaler()\n",
        "X_scaled = scaler.fit_transform(X)\n",
        "\n",
        "# 數據分為訓練集和測試集\n",
        "X_train, X_test, y_train, y_test = train_test_split(X_scaled, y, test_size=0.2, random_state=42)\n",
        "\n",
        "# 超參數調優示例：使用嶺回歸\n",
        "param_grid = {'alpha': [0.1, 1.0, 10.0, 100.0]}  # 可以調整的參數\n",
        "ridge = Ridge()\n",
        "grid_search = GridSearchCV(ridge, param_grid, cv=5, scoring='neg_mean_squared_error')\n",
        "grid_search.fit(X_train, y_train)\n",
        "\n",
        "print(grid_search.best_params_)  # 打印最佳參數\n",
        "print(grid_search.best_score_)  # 打印最佳模型的得分\n",
        "\n",
        "# 獲取最佳模型\n",
        "best_model = grid_search.best_estimator_\n",
        "\n",
        "# 進行預測\n",
        "y_pred = best_model.predict(X_test)\n",
        "\n",
        "# 輸出結果\n",
        "print(\"Mean Squared Error (MSE):\", mean_squared_error(y_test, y_pred))\n",
        "print(\"R-squared (R2):\", r2_score(y_test, y_pred))\n",
        "print(\"Best Model Coefficients:\", best_model.coef_)\n",
        "print(\"Intercept:\", best_model.intercept_)\n"
      ]
    },
    {
      "cell_type": "markdown",
      "metadata": {
        "id": "P-H3SkMTre_v"
      },
      "source": [
        "# 特徵影響力解釋"
      ]
    },
    {
      "cell_type": "code",
      "execution_count": null,
      "metadata": {
        "colab": {
          "base_uri": "https://localhost:8080/"
        },
        "id": "aV2e2-c8nX8Z",
        "outputId": "b9d059bd-069b-4751-bc51-0633d0db4564"
      },
      "outputs": [
        {
          "output_type": "stream",
          "name": "stdout",
          "text": [
            "總面積(坪)      111.653307\n",
            "單價(萬元/坪)     40.233638\n",
            "樓高           15.232749\n",
            "屋齡            8.106793\n",
            "樓別            0.334471\n",
            "有無電梯          0.000000\n",
            "有無管理組織        0.000000\n",
            "車位總價(萬元)     -1.773624\n",
            "主建物佔比      -338.951324\n",
            "dtype: float64\n"
          ]
        }
      ],
      "source": [
        "import pandas as pd\n",
        "from sklearn.linear_model import Ridge\n",
        "\n",
        "# 假設你已經準備好X和y\n",
        "model = Ridge(alpha=1.0)\n",
        "model.fit(X, y)\n",
        "\n",
        "# 獲取特徵係數\n",
        "coef = pd.Series(model.coef_, index=X.columns)\n",
        "print(coef.sort_values(ascending=False))  # 按照影響力從大到小排序\n"
      ]
    },
    {
      "cell_type": "markdown",
      "metadata": {
        "id": "7fpJ9WW3rlqD"
      },
      "source": [
        "# 預測其他的欄位，如單價"
      ]
    },
    {
      "cell_type": "code",
      "execution_count": null,
      "metadata": {
        "colab": {
          "base_uri": "https://localhost:8080/"
        },
        "id": "ZX0l31ZiqogU",
        "outputId": "c9c52612-7e53-430f-a620-99bd044bbc40"
      },
      "outputs": [
        {
          "output_type": "stream",
          "name": "stderr",
          "text": [
            "<ipython-input-10-8d69be3dc0f5>:11: SettingWithCopyWarning: \n",
            "A value is trying to be set on a copy of a slice from a DataFrame\n",
            "\n",
            "See the caveats in the documentation: https://pandas.pydata.org/pandas-docs/stable/user_guide/indexing.html#returning-a-view-versus-a-copy\n",
            "  X.fillna(X.mean(), inplace=True)\n"
          ]
        },
        {
          "output_type": "stream",
          "name": "stdout",
          "text": [
            "Mean Squared Error (MSE): 578.349656777621\n",
            "R-squared (R2): -0.9206050236881171\n",
            "Best Model Coefficients: [-8.12905749 -0.1735921  -9.21064662  6.9467291  -1.8265459  12.03782992]\n",
            "Intercept: 119.34316017290922\n"
          ]
        }
      ],
      "source": [
        "from sklearn.model_selection import train_test_split, GridSearchCV\n",
        "from sklearn.linear_model import Ridge\n",
        "from sklearn.preprocessing import StandardScaler\n",
        "from sklearn.metrics import mean_squared_error, r2_score\n",
        "\n",
        "# 數據預處理\n",
        "X = df[[ '總面積(坪)', '主建物佔比', '屋齡', '樓別', '樓高', '車位總價(萬元)']]\n",
        "y = df['單價(萬元/坪)']\n",
        "\n",
        "# 填補缺失值\n",
        "X.fillna(X.mean(), inplace=True)\n",
        "\n",
        "# 特徵縮放\n",
        "scaler = StandardScaler()\n",
        "X_scaled = scaler.fit_transform(X)\n",
        "\n",
        "# 數據分為訓練集和測試集\n",
        "X_train, X_test, y_train, y_test = train_test_split(X_scaled, y, test_size=0.2, random_state=42)\n",
        "\n",
        "# 超參數調優示例：使用嶺回歸\n",
        "param_grid = {'alpha': [0.1, 1.0, 10.0, 100.0]}  # 可以調整的參數\n",
        "ridge = Ridge()\n",
        "grid_search = GridSearchCV(ridge, param_grid, cv=5, scoring='neg_mean_squared_error')\n",
        "grid_search.fit(X_train, y_train)\n",
        "\n",
        "# 獲取最佳模型\n",
        "best_model = grid_search.best_estimator_\n",
        "\n",
        "# 進行預測\n",
        "y_pred = best_model.predict(X_test)\n",
        "\n",
        "# 輸出結果\n",
        "print(\"Mean Squared Error (MSE):\", mean_squared_error(y_test, y_pred))\n",
        "print(\"R-squared (R2):\", r2_score(y_test, y_pred))\n",
        "print(\"Best Model Coefficients:\", best_model.coef_)\n",
        "print(\"Intercept:\", best_model.intercept_)\n",
        "\n"
      ]
    },
    {
      "cell_type": "markdown",
      "metadata": {
        "id": "5wY8QH9bsNay"
      },
      "source": [
        "# 基本的多元線性迴歸 函式模版"
      ]
    },
    {
      "cell_type": "code",
      "execution_count": null,
      "metadata": {
        "colab": {
          "base_uri": "https://localhost:8080/"
        },
        "id": "nM8qGKBkgycF",
        "outputId": "d39a5489-f557-42c4-a0d6-24c715f3d3ce"
      },
      "outputs": [
        {
          "output_type": "stream",
          "name": "stdout",
          "text": [
            "R-squared (R2): 0.41870819699163886\n",
            "04\n",
            "False\n"
          ]
        }
      ],
      "source": [
        "#----------- model.py -----------------------------\n",
        "\n",
        "# 若是做為一支單獨的 model.py 該 import 的模組都要放進來\n",
        "# from sklearn.linear_model import LinearRegression\n",
        "# ...\n",
        "\n",
        "def Select_feature(df):\n",
        "  # 選擇相關列作為特徵和目標\n",
        "  X = df[[ '車位總價(萬元)', '有無電梯', '有無管理組織']]\n",
        "  return X\n",
        "\n",
        "def Training(X_train, y_train):\n",
        "  # 創建並訓練線性回歸模型\n",
        "  model = LinearRegression()\n",
        "  model.fit(X_train, y_train)\n",
        "  return model\n",
        "\n",
        "\n",
        "#----------- main.py -----------------------------\n",
        "\n",
        "X = Select_feature(df) #這裡呼叫同學們寫的選擇特徵函式，並回傳篩選好的特徵\n",
        "y = df['總價(萬元)']\n",
        "\n",
        "# 將數據分為訓練集和測試集\n",
        "X_train, X_test, y_train, y_test = train_test_split(X, y, test_size=0.2, random_state=42)\n",
        "model = Training(X_train, y_train) #這裡呼叫同學們寫的訓練函式，並回傳訓練好的模型\n",
        "\n",
        "# 進行預測\n",
        "y_pred = model.predict(X_test)\n",
        "\n",
        "# 輸出結果\n",
        "# print(\"Mean Squared Error (MSE):\", mean_squared_error(y_test, y_pred))\n",
        "print(\"R-squared (R2):\", r2_score(y_test, y_pred))\n",
        "# print(\"Model Coefficients:\", model.coef_)\n",
        "# print(\"Intercept:\", model.intercept_)\n",
        "\n",
        "r2 = r2_score(y_test, y_pred)\n",
        "threshold = float(input())\n",
        "print(r2>threshold)\n"
      ]
    },
    {
      "cell_type": "markdown",
      "metadata": {
        "id": "45VSLyyCsWom"
      },
      "source": [
        "# 進階版的多元線性迴歸作業模版"
      ]
    },
    {
      "cell_type": "code",
      "execution_count": null,
      "metadata": {
        "colab": {
          "base_uri": "https://localhost:8080/"
        },
        "id": "QelroF6XlNty",
        "outputId": "761467bf-bf7d-4102-838f-d45a00fc4292"
      },
      "outputs": [
        {
          "output_type": "stream",
          "name": "stderr",
          "text": [
            "<ipython-input-12-2a4d7a858208>:5: SettingWithCopyWarning: \n",
            "A value is trying to be set on a copy of a slice from a DataFrame\n",
            "\n",
            "See the caveats in the documentation: https://pandas.pydata.org/pandas-docs/stable/user_guide/indexing.html#returning-a-view-versus-a-copy\n",
            "  X.fillna(X.mean(), inplace=True)\n"
          ]
        },
        {
          "output_type": "stream",
          "name": "stdout",
          "text": [
            "R-squared (R2): 0.4322105780235991\n",
            "1\n",
            "False\n"
          ]
        }
      ],
      "source": [
        "#----------- model.py -----------------------------\n",
        "# 若是做為一支單獨的 model.py 該import 的模組都要放進來\n",
        "# from sklearn.model_selection import GridSearchCV\n",
        "# from sklearn.linear_model import Ridge\n",
        "# from sklearn.preprocessing import StandardScaler\n",
        "# ...\n",
        "\n",
        "def Select_feature(df):\n",
        "  # 選擇相關列作為特徵和目標\n",
        "  X = df[['車位總價(萬元)', '有無電梯', '有無管理組織']]\n",
        "  # 填補缺失值\n",
        "  X.fillna(X.mean(), inplace=True)\n",
        "\n",
        "  # 特徵縮放\n",
        "  scaler = StandardScaler()\n",
        "  X_scaled = scaler.fit_transform(X)\n",
        "  return X_scaled\n",
        "\n",
        "def Training(X_train, y_train):\n",
        "  # 超參數調優示例：使用嶺回歸\n",
        "  param_grid = {'alpha': [0.1, 1.0, 10.0, 100.0]}  # 可以調整的參數\n",
        "  ridge = Ridge()\n",
        "  grid_search = GridSearchCV(ridge, param_grid, cv=5, scoring='neg_mean_squared_error')\n",
        "  grid_search.fit(X_train, y_train)\n",
        "\n",
        "  # 獲取最佳模型\n",
        "  best_model = grid_search.best_estimator_\n",
        "\n",
        "  return best_model\n",
        "\n",
        "#----------- main.py -----------------------------\n",
        "\n",
        "#X = df[['單價(萬元/坪)', '總面積(坪)', '主建物佔比', '屋齡', '樓別', '樓高', '車位總價(萬元)', '有無電梯', '有無管理組織']]\n",
        "\n",
        "X = Select_feature(df) #這裡呼叫同學們寫的選擇特徵函式，並回傳篩選好的特徵\n",
        "y = df['總價(萬元)']\n",
        "\n",
        "# 將數據分為訓練集和測試集\n",
        "X_train, X_test, y_train, y_test = train_test_split(X, y, test_size=0.2, random_state=42)\n",
        "model = Training(X_train, y_train) #這裡呼叫同學們寫的訓練函式，並回傳訓練好的模型\n",
        "\n",
        "# 進行預測\n",
        "y_pred = model.predict(X_test)\n",
        "\n",
        "# 輸出結果\n",
        "# print(\"Mean Squared Error (MSE):\", mean_squared_error(y_test, y_pred))\n",
        "print(\"R-squared (R2):\", r2_score(y_test, y_pred))\n",
        "# print(\"Model Coefficients:\", model.coef_)\n",
        "# print(\"Intercept:\", model.intercept_)\n",
        "\n",
        "r2 = r2_score(y_test, y_pred)\n",
        "threshold = float(input())\n",
        "print(r2>threshold)\n"
      ]
    }
  ],
  "metadata": {
    "colab": {
      "provenance": [],
      "include_colab_link": true
    },
    "kernelspec": {
      "display_name": "Python 3",
      "language": "python",
      "name": "python3"
    },
    "language_info": {
      "codemirror_mode": {
        "name": "ipython",
        "version": 3
      },
      "file_extension": ".py",
      "mimetype": "text/x-python",
      "name": "python",
      "nbconvert_exporter": "python",
      "pygments_lexer": "ipython3",
      "version": "3.5.2"
    }
  },
  "nbformat": 4,
  "nbformat_minor": 0
}