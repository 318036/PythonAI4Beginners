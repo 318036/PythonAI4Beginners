{
  "nbformat": 4,
  "nbformat_minor": 0,
  "metadata": {
    "colab": {
      "provenance": [],
      "authorship_tag": "ABX9TyPXdHpvA20gvLqgU8+4Etii",
      "include_colab_link": true
    },
    "kernelspec": {
      "name": "python3",
      "display_name": "Python 3"
    },
    "language_info": {
      "name": "python"
    }
  },
  "cells": [
    {
      "cell_type": "markdown",
      "metadata": {
        "id": "view-in-github",
        "colab_type": "text"
      },
      "source": [
        "<a href=\"https://colab.research.google.com/github/peculab/PythonAI4Beginners/blob/main/%E7%AC%AC%E5%9B%9B%E9%80%B1_%E8%81%8A%E5%A4%A9%E6%A9%9F%E5%99%A8%E4%BA%BA_Part2.ipynb\" target=\"_parent\"><img src=\"https://colab.research.google.com/assets/colab-badge.svg\" alt=\"Open In Colab\"/></a>"
      ]
    },
    {
      "cell_type": "markdown",
      "source": [
        "https://ai.google.dev/\n",
        "\n",
        "https://ai.google.dev/gemini-api/docs/quickstart?lang=python"
      ],
      "metadata": {
        "id": "FzAHtzePPM_a"
      }
    },
    {
      "cell_type": "code",
      "execution_count": 11,
      "metadata": {
        "id": "tioEPqr0O13e"
      },
      "outputs": [],
      "source": [
        "from google.colab import userdata\n",
        "apikey = userdata.get('GOOGLE_API_KEY')"
      ]
    },
    {
      "cell_type": "code",
      "source": [
        "import google.generativeai as genai\n",
        "genai.configure(api_key = apikey)\n",
        "model = genai.GenerativeModel(\"gemini-1.5-flash\")\n",
        "response = model.generate_content(\"Write a story about a magic backpack.\")\n",
        "print(response.text)"
      ],
      "metadata": {
        "colab": {
          "base_uri": "https://localhost:8080/",
          "height": 390
        },
        "collapsed": true,
        "id": "CbU4hRQO5NYJ",
        "outputId": "f6cb4592-75ea-43ed-a99d-96befa87fd77"
      },
      "execution_count": 12,
      "outputs": [
        {
          "output_type": "stream",
          "name": "stdout",
          "text": [
            "Elara, a girl with eyes like the summer sky and hair the color of sun-bleached wheat, was no stranger to adventure. But she had never encountered anything quite like the magic backpack. \n",
            "\n",
            "It appeared one day, seemingly out of thin air, nestled amongst the ancient oaks in her backyard. Its worn leather was the color of rich earth, and a single, silver buckle glimmered in the afternoon sun. It was unassuming, almost ordinary, yet there was a curious hum about it, a faint melody that seemed to whisper of distant lands and whispered secrets.\n",
            "\n",
            "Elara, naturally curious, slipped the backpack on. The moment it touched her shoulders, a warm tingling ran through her body. Images flooded her mind: bustling marketplaces, snow-capped mountains, shimmering oceans. The world, in its boundless beauty, was laid bare before her.\n",
            "\n",
            "That night, Elara dreamt of a fiery sunset over a vast desert. When she woke, she found a small, smooth stone in her backpack, radiating warmth. It was a piece of the desert sun, she knew, a memento of her dream.  \n",
            "\n",
            "The magic backpack was a portal to her dreams. Every night, Elara would drift into slumber, eager to explore the places her subconscious painted. One night, she dreamt of soaring over emerald valleys on the back of a giant eagle. The next, she sailed through the cosmos, stars shimmering like diamonds against the velvety black. Each morning, a new treasure awaited her in the backpack, a tangible reminder of her nocturnal adventures: a feather from the eagle's wing, a star-shaped crystal, a tiny, sand-filled bottle from a distant shore.\n",
            "\n",
            "Soon, her room became a museum of dreams. She collected sea shells from uncharted islands, tiny scrolls with cryptic symbols from ancient libraries, and even a single, perfect snowflake from a winter wonderland. Every object pulsed with a silent magic, whispering tales of wonder and adventure.\n",
            "\n",
            "But the backpack also brought its own challenges.  One night, Elara dreamt of a dark forest, its branches gnarled and twisting, haunted by whispers and shadows. She woke up to a chilling emptiness, a hollowness that echoed the nightmare's despair. \n",
            "\n",
            "As she searched for answers, she learned that the backpack was not just a portal to dreams, but also a reflection of her own heart. Joyful dreams yielded treasures of hope, while anxieties and fears manifested as unsettling objects.\n",
            "\n",
            "Elara realized that the magic backpack wasn't just a tool for adventure; it was a guide, a mirror reflecting the complexities of her soul. It taught her the importance of facing her fears and embracing her dreams, knowing that even the darkest nightmares could be overcome with courage and determination.\n",
            "\n",
            "And so, Elara continued to explore the world, both within and without. She used the magic backpack to face her fears, to learn, to grow, and to discover the boundless possibilities that awaited her, not just in her dreams, but in the waking world as well.  For she knew that the true magic wasn't just in the backpack, but in the courage to dream, to explore, and to make those dreams a reality. \n",
            "\n"
          ]
        }
      ]
    },
    {
      "cell_type": "code",
      "source": [
        "def translate_text(text, target_language):\n",
        "    prompt = f\"Translate the following text to {target_language}: {text}\"\n",
        "    response = model.generate_content(prompt)\n",
        "    return response.text"
      ],
      "metadata": {
        "id": "pGWIk_Ng7E1g"
      },
      "execution_count": 13,
      "outputs": []
    },
    {
      "cell_type": "code",
      "source": [
        "def chat_bot():\n",
        "    print(\"Welcome to the translation chatbot!\")\n",
        "    print(\"Type 'exit' to quit.\")\n",
        "\n",
        "    target_language = input(\"Please specify the target language (e.g., French, Spanish, Chinese): \")\n",
        "\n",
        "    while True:\n",
        "        user_input = input(\"Enter the text you want to translate: \")\n",
        "\n",
        "        if user_input.lower() == \"exit\":\n",
        "            print(\"Goodbye!\")\n",
        "            break\n",
        "\n",
        "        translation = translate_text(user_input, target_language)\n",
        "        print(f\"Translation to {target_language}: {translation}\")"
      ],
      "metadata": {
        "id": "sPMk9mkT6--P"
      },
      "execution_count": 14,
      "outputs": []
    },
    {
      "cell_type": "code",
      "source": [
        "chat_bot()"
      ],
      "metadata": {
        "colab": {
          "base_uri": "https://localhost:8080/",
          "height": 178
        },
        "id": "PKMUacAi7JEU",
        "outputId": "db373b30-cc90-48c4-d6b8-94d733f35504"
      },
      "execution_count": 15,
      "outputs": [
        {
          "output_type": "stream",
          "name": "stdout",
          "text": [
            "Welcome to the translation chatbot!\n",
            "Type 'exit' to quit.\n",
            "Please specify the target language (e.g., French, Spanish, Chinese): Chinese\n",
            "Enter the text you want to translate: how are you\n",
            "Translation to Chinese: 你好 (nǐ hǎo) \n",
            "\n",
            "Enter the text you want to translate: exit\n",
            "Goodbye!\n"
          ]
        }
      ]
    }
  ]
}